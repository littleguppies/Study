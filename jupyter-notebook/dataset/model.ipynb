{
 "cells": [
  {
   "cell_type": "code",
   "execution_count": 104,
   "metadata": {},
   "outputs": [],
   "source": [
    "import numpy as np"
   ]
  },
  {
   "cell_type": "code",
   "execution_count": 105,
   "metadata": {},
   "outputs": [],
   "source": [
    "import pandas as pd\n",
    "data = pd.read_csv('features.csv', index_col=0)"
   ]
  },
  {
   "cell_type": "code",
   "execution_count": 106,
   "metadata": {},
   "outputs": [],
   "source": [
    "data = np.array(data.values)"
   ]
  },
  {
   "cell_type": "code",
   "execution_count": 107,
   "metadata": {},
   "outputs": [
    {
     "name": "stderr",
     "output_type": "stream",
     "text": [
      "/home/lqsang/.local/share/virtualenvs/jupyter-notebook-EiH8Ma0m/lib/python3.6/site-packages/sklearn/utils/validation.py:724: DataConversionWarning: A column-vector y was passed when a 1d array was expected. Please change the shape of y to (n_samples, ), for example using ravel().\n",
      "  y = column_or_1d(y, warn=True)\n"
     ]
    },
    {
     "data": {
      "text/plain": [
       "0.86"
      ]
     },
     "execution_count": 107,
     "metadata": {},
     "output_type": "execute_result"
    }
   ],
   "source": [
    "from sklearn.model_selection import train_test_split\n",
    "from sklearn.linear_model import Perceptron\n",
    "X_train, X_test, y_train, y_test = train_test_split(data[:,13:],data[:,1:2], random_state=10)\n",
    "model = Perceptron()\n",
    "model.fit(X_train, y_train)\n",
    "from sklearn.metrics import accuracy_score\n",
    "y_pre = model.predict(X_test)\n",
    "accuracy_score(y_test, y_pre)"
   ]
  },
  {
   "cell_type": "code",
   "execution_count": 110,
   "metadata": {},
   "outputs": [
    {
     "data": {
      "text/plain": [
       "array([[0, 24, 154, ..., 1, 1, 16],\n",
       "       [0, 7, 107, ..., 1, 1, 23],\n",
       "       [0, 5, 128, ..., 1, 1, 23],\n",
       "       ...,\n",
       "       [0, 13, 148, ..., 1, 1, 21],\n",
       "       [0, 2, 42, ..., 1, 1, 17],\n",
       "       [0, 9, 181, ..., 1, 1, 20]], dtype=object)"
      ]
     },
     "execution_count": 110,
     "metadata": {},
     "output_type": "execute_result"
    }
   ],
   "source": [
    "X_train"
   ]
  },
  {
   "cell_type": "code",
   "execution_count": 109,
   "metadata": {},
   "outputs": [
    {
     "data": {
      "text/plain": [
       "array(['subjective', 'subjective', 'subjective', 'objective', 'objective',\n",
       "       'subjective', 'objective', 'objective', 'objective', 'objective',\n",
       "       'subjective', 'objective', 'objective', 'subjective', 'objective',\n",
       "       'objective', 'subjective', 'subjective', 'subjective', 'objective',\n",
       "       'subjective', 'objective', 'objective', 'objective', 'objective',\n",
       "       'objective', 'objective', 'subjective', 'objective', 'objective',\n",
       "       'objective', 'subjective', 'objective', 'objective', 'objective',\n",
       "       'objective', 'objective', 'objective', 'objective', 'subjective',\n",
       "       'objective', 'objective', 'objective', 'objective', 'subjective',\n",
       "       'subjective', 'objective', 'subjective', 'objective', 'subjective',\n",
       "       'objective', 'objective', 'subjective', 'objective', 'objective',\n",
       "       'objective', 'objective', 'objective', 'objective', 'objective',\n",
       "       'subjective', 'subjective', 'subjective', 'objective',\n",
       "       'subjective', 'subjective', 'objective', 'subjective', 'objective',\n",
       "       'objective', 'objective', 'objective', 'objective', 'objective',\n",
       "       'subjective', 'subjective', 'objective', 'objective', 'objective',\n",
       "       'objective', 'subjective', 'objective', 'objective', 'objective',\n",
       "       'objective', 'objective', 'objective', 'objective', 'objective',\n",
       "       'objective', 'objective', 'objective', 'objective', 'objective',\n",
       "       'objective', 'objective', 'objective', 'subjective', 'objective',\n",
       "       'objective', 'objective', 'subjective', 'subjective', 'objective',\n",
       "       'objective', 'objective', 'objective', 'objective', 'objective',\n",
       "       'objective', 'objective', 'objective', 'objective', 'subjective',\n",
       "       'subjective', 'objective', 'subjective', 'subjective',\n",
       "       'subjective', 'objective', 'subjective', 'subjective', 'objective',\n",
       "       'objective', 'subjective', 'objective', 'objective', 'subjective',\n",
       "       'subjective', 'objective', 'objective', 'objective', 'objective',\n",
       "       'subjective', 'subjective', 'subjective', 'subjective',\n",
       "       'subjective', 'subjective', 'objective', 'objective', 'subjective',\n",
       "       'subjective', 'objective', 'subjective', 'objective', 'objective',\n",
       "       'objective', 'objective', 'objective', 'objective', 'objective',\n",
       "       'subjective', 'subjective', 'objective', 'objective', 'objective',\n",
       "       'subjective', 'objective', 'objective', 'objective', 'subjective',\n",
       "       'objective', 'objective', 'objective', 'objective', 'objective',\n",
       "       'subjective', 'subjective', 'subjective', 'objective', 'objective',\n",
       "       'objective', 'objective', 'objective', 'objective', 'subjective',\n",
       "       'objective', 'objective', 'objective', 'objective', 'objective',\n",
       "       'subjective', 'objective', 'objective', 'objective', 'objective',\n",
       "       'objective', 'objective', 'objective', 'subjective', 'subjective',\n",
       "       'objective', 'objective', 'objective', 'objective', 'objective',\n",
       "       'objective', 'objective', 'subjective', 'objective', 'objective',\n",
       "       'objective', 'objective', 'objective', 'objective', 'objective',\n",
       "       'objective', 'subjective', 'objective', 'objective', 'subjective',\n",
       "       'subjective', 'subjective', 'objective', 'subjective',\n",
       "       'subjective', 'subjective', 'objective', 'subjective', 'objective',\n",
       "       'subjective', 'objective', 'subjective', 'objective', 'objective',\n",
       "       'objective', 'objective', 'objective', 'objective', 'subjective',\n",
       "       'objective', 'subjective', 'objective', 'objective', 'objective',\n",
       "       'objective', 'objective', 'objective', 'objective', 'objective',\n",
       "       'objective', 'objective', 'objective', 'objective', 'subjective',\n",
       "       'objective', 'objective', 'objective', 'objective'], dtype='<U10')"
      ]
     },
     "execution_count": 109,
     "metadata": {},
     "output_type": "execute_result"
    }
   ],
   "source": [
    "model.predict(X_test)"
   ]
  }
 ],
 "metadata": {
  "kernelspec": {
   "display_name": "Python 3",
   "language": "python",
   "name": "python3"
  },
  "language_info": {
   "codemirror_mode": {
    "name": "ipython",
    "version": 3
   },
   "file_extension": ".py",
   "mimetype": "text/x-python",
   "name": "python",
   "nbconvert_exporter": "python",
   "pygments_lexer": "ipython3",
   "version": "3.6.8"
  }
 },
 "nbformat": 4,
 "nbformat_minor": 4
}
