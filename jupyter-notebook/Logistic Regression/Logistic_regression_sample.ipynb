{
 "cells": [
  {
   "cell_type": "code",
   "execution_count": 2,
   "metadata": {},
   "outputs": [],
   "source": [
    "import pandas as pd\n",
    "import numpy as np\n",
    "data = pd.read_csv('data_classification.csv', header=None)"
   ]
  },
  {
   "cell_type": "code",
   "execution_count": 3,
   "metadata": {},
   "outputs": [
    {
     "data": {
      "text/html": [
       "<div>\n",
       "<style scoped>\n",
       "    .dataframe tbody tr th:only-of-type {\n",
       "        vertical-align: middle;\n",
       "    }\n",
       "\n",
       "    .dataframe tbody tr th {\n",
       "        vertical-align: top;\n",
       "    }\n",
       "\n",
       "    .dataframe thead th {\n",
       "        text-align: right;\n",
       "    }\n",
       "</style>\n",
       "<table border=\"1\" class=\"dataframe\">\n",
       "  <thead>\n",
       "    <tr style=\"text-align: right;\">\n",
       "      <th></th>\n",
       "      <th>0</th>\n",
       "      <th>1</th>\n",
       "      <th>2</th>\n",
       "    </tr>\n",
       "  </thead>\n",
       "  <tbody>\n",
       "    <tr>\n",
       "      <th>0</th>\n",
       "      <td>4.855064</td>\n",
       "      <td>9.639962</td>\n",
       "      <td>1</td>\n",
       "    </tr>\n",
       "    <tr>\n",
       "      <th>1</th>\n",
       "      <td>8.625440</td>\n",
       "      <td>0.058927</td>\n",
       "      <td>0</td>\n",
       "    </tr>\n",
       "    <tr>\n",
       "      <th>2</th>\n",
       "      <td>3.828192</td>\n",
       "      <td>0.723199</td>\n",
       "      <td>0</td>\n",
       "    </tr>\n",
       "    <tr>\n",
       "      <th>3</th>\n",
       "      <td>7.150955</td>\n",
       "      <td>3.899420</td>\n",
       "      <td>1</td>\n",
       "    </tr>\n",
       "    <tr>\n",
       "      <th>4</th>\n",
       "      <td>6.477900</td>\n",
       "      <td>8.198181</td>\n",
       "      <td>1</td>\n",
       "    </tr>\n",
       "    <tr>\n",
       "      <th>...</th>\n",
       "      <td>...</td>\n",
       "      <td>...</td>\n",
       "      <td>...</td>\n",
       "    </tr>\n",
       "    <tr>\n",
       "      <th>95</th>\n",
       "      <td>0.022280</td>\n",
       "      <td>2.658428</td>\n",
       "      <td>0</td>\n",
       "    </tr>\n",
       "    <tr>\n",
       "      <th>96</th>\n",
       "      <td>7.630637</td>\n",
       "      <td>7.405351</td>\n",
       "      <td>1</td>\n",
       "    </tr>\n",
       "    <tr>\n",
       "      <th>97</th>\n",
       "      <td>3.684997</td>\n",
       "      <td>5.049965</td>\n",
       "      <td>0</td>\n",
       "    </tr>\n",
       "    <tr>\n",
       "      <th>98</th>\n",
       "      <td>7.484260</td>\n",
       "      <td>6.059396</td>\n",
       "      <td>1</td>\n",
       "    </tr>\n",
       "    <tr>\n",
       "      <th>99</th>\n",
       "      <td>2.030708</td>\n",
       "      <td>3.937267</td>\n",
       "      <td>0</td>\n",
       "    </tr>\n",
       "  </tbody>\n",
       "</table>\n",
       "<p>100 rows × 3 columns</p>\n",
       "</div>"
      ],
      "text/plain": [
       "           0         1  2\n",
       "0   4.855064  9.639962  1\n",
       "1   8.625440  0.058927  0\n",
       "2   3.828192  0.723199  0\n",
       "3   7.150955  3.899420  1\n",
       "4   6.477900  8.198181  1\n",
       "..       ...       ... ..\n",
       "95  0.022280  2.658428  0\n",
       "96  7.630637  7.405351  1\n",
       "97  3.684997  5.049965  0\n",
       "98  7.484260  6.059396  1\n",
       "99  2.030708  3.937267  0\n",
       "\n",
       "[100 rows x 3 columns]"
      ]
     },
     "execution_count": 3,
     "metadata": {},
     "output_type": "execute_result"
    }
   ],
   "source": [
    "data"
   ]
  },
  {
   "cell_type": "code",
   "execution_count": 4,
   "metadata": {},
   "outputs": [],
   "source": [
    "true_x = []\n",
    "true_y = []\n",
    "false_x = []\n",
    "false_y = []\n",
    "\n",
    "for item in data.values:\n",
    "    if item[2] == 1.:\n",
    "        true_x.append(item[0])\n",
    "        true_y.append(item[1])\n",
    "    else:\n",
    "        false_x.append(item[0])\n",
    "        false_y.append(item[1])"
   ]
  },
  {
   "cell_type": "code",
   "execution_count": 5,
   "metadata": {},
   "outputs": [],
   "source": [
    "import matplotlib.pyplot as plt"
   ]
  },
  {
   "cell_type": "code",
   "execution_count": 6,
   "metadata": {},
   "outputs": [
    {
     "data": {
      "text/plain": [
       "<matplotlib.collections.PathCollection at 0x7f8235aa3c50>"
      ]
     },
     "execution_count": 6,
     "metadata": {},
     "output_type": "execute_result"
    },
    {
     "data": {
      "image/png": "[encoded data removed]",
      "text/plain": [
       "<Figure size 432x288 with 1 Axes>"
      ]
     },
     "metadata": {
      "needs_background": "light"
     },
     "output_type": "display_data"
    }
   ],
   "source": [
    "plt.scatter(true_x, true_y, marker='o', c='b')\n",
    "plt.scatter(false_x, false_y, marker='x', c='r')"
   ]
  },
  {
   "cell_type": "code",
   "execution_count": 7,
   "metadata": {},
   "outputs": [],
   "source": [
    "def sigmoid(z):\n",
    "    return 1.0/(1 + np.exp(-z))\n",
    "\n",
    "def classification(p):\n",
    "    if p >= 0.5:\n",
    "        return 1\n",
    "    else:\n",
    "        return 0\n",
    "\n",
    "def predict(features, weights):\n",
    "    z = np.dot(features, weights)\n",
    "    return sigmoid(z)\n",
    "\n",
    "def cost_function(features, labels, weights):\n",
    "    #features: (100x3)\n",
    "    #labels: (100x1) 1 or 0\n",
    "    #weights: (3x1)\n",
    "    #return cost\n",
    "    n = len(labels)\n",
    "    predictions = predict(features, weights)\n",
    "    #prediction = [0.5, 0.6, 0.9, 0.2] (example)\n",
    "    cost_class1 = -labels*np.log(predictions)\n",
    "    cost_class2 = -(1 - labels)*np.log(1 - predictions)\n",
    "    cost = cost_class1 + cost_class2\n",
    "    return cost.sum()/n\n",
    "\n",
    "def update_weight(features, labels, weights, learning_rate):\n",
    "    #features: (100x3)\n",
    "    #labels: (100x1) 1 or 0\n",
    "    #weights: (3x1)\n",
    "    #learning_rate: float\n",
    "    #return : new weight: float\n",
    "    n = len(labels)\n",
    "    predictions = predict(features, weights)\n",
    "    gd = np.dot(features.T, (predictions - labels))\n",
    "    gd = gd/n\n",
    "    gd = gd*learning_rate\n",
    "    weights = weights - gd\n",
    "    return weights\n",
    "\n",
    "def train(features, labels, weights, learning_rate, iter):\n",
    "    cost_hs = []\n",
    "    for i in range(iter):\n",
    "        weights = update_weight(features, labels, weights, learning_rate)\n",
    "        cost = cost_function(features, labels, weights)\n",
    "        cost_hs.append(cost)\n",
    "    return weights, cost_hs"
   ]
  },
  {
   "cell_type": "code",
   "execution_count": 8,
   "metadata": {},
   "outputs": [],
   "source": [
    "model = train(data, data.values[:,2:3], [[0], [1], [1]], 0.008, 10)"
   ]
  },
  {
   "cell_type": "code",
   "execution_count": 9,
   "metadata": {},
   "outputs": [
    {
     "data": {
      "text/plain": [
       "(array([[-0.08546765],\n",
       "        [ 0.87966262],\n",
       "        [ 1.00155727]]),\n",
       " [1.6461245883526319,\n",
       "  1.6167245048353802,\n",
       "  1.5879570503266731,\n",
       "  1.5598320313243292,\n",
       "  1.5323568712819493,\n",
       "  1.5055365368476687,\n",
       "  1.4793735039128657,\n",
       "  1.4538677646936142,\n",
       "  1.4290168756537773,\n",
       "  1.4048160446389801])"
      ]
     },
     "execution_count": 9,
     "metadata": {},
     "output_type": "execute_result"
    }
   ],
   "source": [
    "predict()"
   ]
  },
  {
   "cell_type": "code",
   "execution_count": 21,
   "metadata": {},
   "outputs": [
    {
     "data": {
      "text/plain": [
       "(array([[-0.08546765],\n",
       "        [ 0.87966262],\n",
       "        [ 1.00155727]]),\n",
       " [1.6461245883526319,\n",
       "  1.6167245048353802,\n",
       "  1.5879570503266731,\n",
       "  1.5598320313243292,\n",
       "  1.5323568712819493,\n",
       "  1.5055365368476687,\n",
       "  1.4793735039128657,\n",
       "  1.4538677646936142,\n",
       "  1.4290168756537773,\n",
       "  1.4048160446389801])"
      ]
     },
     "execution_count": 21,
     "metadata": {},
     "output_type": "execute_result"
    }
   ],
   "source": [
    "model"
   ]
  },
  {
   "cell_type": "code",
   "execution_count": 20,
   "metadata": {},
   "outputs": [
    {
     "data": {
      "text/plain": [
       "array([[0.57663744]])"
      ]
     },
     "execution_count": 20,
     "metadata": {},
     "output_type": "execute_result"
    }
   ],
   "source": [
    "p"
   ]
  },
  {
   "cell_type": "code",
   "execution_count": 19,
   "metadata": {},
   "outputs": [
    {
     "data": {
      "text/plain": [
       "array([4.85506424, 8.62543976, 3.82819154, 7.15095484, 6.47790044,\n",
       "       1.9222695 , 8.97821589, 6.63560308, 7.67235895, 4.86601533,\n",
       "       6.86140497, 8.54042132, 3.71788065, 9.18129712, 9.56014002,\n",
       "       5.97136947, 9.43820269, 4.35755102, 4.54033196, 1.54910163,\n",
       "       8.08197371, 9.620465  , 8.83477098, 1.75344854, 1.04321284,\n",
       "       1.19638318, 8.91006988, 4.52961874, 1.85911241, 9.55717884,\n",
       "       7.15470123, 2.34361853, 2.92268449, 6.33309623, 0.92562818,\n",
       "       7.87439057, 8.34775105, 5.58106113, 5.09102909, 4.53017137,\n",
       "       1.42377799, 9.09596013, 4.00661592, 8.97656743, 0.09805288,\n",
       "       0.45238867, 3.86304627, 7.86385017, 8.92270641, 7.46436788,\n",
       "       1.34192929, 5.9409696 , 0.90407766, 7.75053006, 9.51792529,\n",
       "       7.74378671, 7.69192306, 7.09227303, 6.94443908, 0.04502472,\n",
       "       1.54596913, 5.27238317, 0.86040708, 7.25343893, 7.51730898,\n",
       "       9.08162719, 0.45567818, 6.94970542, 9.28214252, 7.18081269,\n",
       "       1.13248839, 7.74652845, 7.06536045, 6.50581749, 5.70052911,\n",
       "       6.66046669, 1.09147202, 4.90308762, 3.44310934, 8.18297806,\n",
       "       9.00037648, 9.68310414, 2.99191148, 2.23818348, 0.66547833,\n",
       "       6.77931871, 9.94784093, 3.21484922, 8.85164631, 0.20005787,\n",
       "       5.18546951, 7.26008815, 9.15051613, 6.46089606, 4.77857249,\n",
       "       0.02227957, 7.63063693, 3.68499747, 7.48425954, 2.03070798])"
      ]
     },
     "execution_count": 19,
     "metadata": {},
     "output_type": "execute_result"
    }
   ],
   "source": [
    "data.values[:,0]"
   ]
  },
  {
   "cell_type": "code",
   "execution_count": null,
   "metadata": {},
   "outputs": [],
   "source": []
  }
 ],
 "metadata": {
  "kernelspec": {
   "display_name": "Python 3",
   "language": "python",
   "name": "python3"
  },
  "language_info": {
   "codemirror_mode": {
    "name": "ipython",
    "version": 3
   },
   "file_extension": ".py",
   "mimetype": "text/x-python",
   "name": "python",
   "nbconvert_exporter": "python",
   "pygments_lexer": "ipython3",
   "version": "3.6.8"
  }
 },
 "nbformat": 4,
 "nbformat_minor": 4
}
