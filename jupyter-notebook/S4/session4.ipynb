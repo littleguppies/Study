{
 "cells": [
  {
   "cell_type": "code",
   "execution_count": 1,
   "metadata": {},
   "outputs": [],
   "source": [
    "import numpy as np"
   ]
  },
  {
   "cell_type": "code",
   "execution_count": 2,
   "metadata": {},
   "outputs": [],
   "source": [
    "import matplotlib.pyplot as plt "
   ]
  },
  {
   "cell_type": "code",
   "execution_count": 3,
   "metadata": {},
   "outputs": [],
   "source": [
    "X = np.array([1, 2, 4])\n",
    "Y = np.array([2, 3, 6])"
   ]
  },
  {
   "cell_type": "code",
   "execution_count": 4,
   "metadata": {},
   "outputs": [
    {
     "data": {
      "image/png": "[encoded data removed]",
      "text/plain": [
       "<Figure size 432x288 with 1 Axes>"
      ]
     },
     "metadata": {
      "needs_background": "light"
     },
     "output_type": "display_data"
    }
   ],
   "source": [
    "plt.axis([0, 5, 0, 8])\n",
    "plt.plot(X, Y, \"ro\", color=\"blue\")\n",
    "plt.xlabel(\"Gia tri thuoc tinh X\")\n",
    "plt.ylabel(\"Gia tri thuoc tinh Y\")\n",
    "plt.show()"
   ]
  },
  {
   "cell_type": "code",
   "execution_count": 33,
   "metadata": {},
   "outputs": [],
   "source": []
  },
  {
   "cell_type": "code",
   "execution_count": 13,
   "metadata": {},
   "outputs": [],
   "source": [
    "def LR1(X, Y, eta, lanlap, theta0, theta1):\n",
    "    m = len(X)\n",
    "    for i in range(0, lanlap):\n",
    "        print(\"Lan lap: \", i + 1)\n",
    "        for j in range(0, m):\n",
    "            #theta0\n",
    "            h = theta0 + theta1*X[j]\n",
    "            theta0 = theta0 + eta*(Y[j]-h)*1\n",
    "            print(\"Phan tu \", j, \",y = \", Y[j],\", h =\", h, \", gia tri theta0 = \", theta0)\n",
    "            #theta1\n",
    "            theta1 = theta1 + eta*(Y[j] - h)*X[j]\n",
    "            print(\"Phan tu \", j, \", Gia tri theta1 = \", theta1)\n",
    "    return [theta0, theta1]"
   ]
  },
  {
   "cell_type": "code",
   "execution_count": 14,
   "metadata": {},
   "outputs": [
    {
     "name": "stdout",
     "output_type": "stream",
     "text": [
      "Lan lap:  1\n",
      "Phan tu  0 ,y =  2 , h = 1 , gia tri theta0 =  0.2\n",
      "Phan tu  0 , Gia tri theta1 =  1.2\n",
      "Phan tu  1 ,y =  3 , h = 2.6 , gia tri theta0 =  0.28\n",
      "Phan tu  1 , Gia tri theta1 =  1.3599999999999999\n",
      "Phan tu  2 ,y =  6 , h = 5.72 , gia tri theta0 =  0.3360000000000001\n",
      "Phan tu  2 , Gia tri theta1 =  1.584\n",
      "Lan lap:  2\n",
      "Phan tu  0 ,y =  2 , h = 1.9200000000000002 , gia tri theta0 =  0.35200000000000004\n",
      "Phan tu  0 , Gia tri theta1 =  1.6\n",
      "Phan tu  1 ,y =  3 , h = 3.552 , gia tri theta0 =  0.24160000000000004\n",
      "Phan tu  1 , Gia tri theta1 =  1.3792\n",
      "Phan tu  2 ,y =  6 , h = 5.7584 , gia tri theta0 =  0.28992000000000007\n",
      "Phan tu  2 , Gia tri theta1 =  1.57248\n"
     ]
    }
   ],
   "source": [
    "theta = LR1(X, Y, 0.2, 2, 0, 1)"
   ]
  },
  {
   "cell_type": "code",
   "execution_count": 7,
   "metadata": {},
   "outputs": [
    {
     "data": {
      "text/plain": [
       "[0.3360000000000001, 1.584]"
      ]
     },
     "execution_count": 7,
     "metadata": {},
     "output_type": "execute_result"
    }
   ],
   "source": [
    "theta"
   ]
  },
  {
   "cell_type": "code",
   "execution_count": 8,
   "metadata": {},
   "outputs": [
    {
     "name": "stdout",
     "output_type": "stream",
     "text": [
      "Lan lap:  0\n",
      "Phan tu  0 ,y =  2 , h = 1 , gia tri theta0 =  0.2\n",
      "Phan tu  0 , Gia tri theta1 =  1.2\n",
      "Phan tu  1 ,y =  3 , h = 2.6 , gia tri theta0 =  0.28\n",
      "Phan tu  1 , Gia tri theta1 =  1.3599999999999999\n",
      "Phan tu  2 ,y =  6 , h = 5.72 , gia tri theta0 =  0.3360000000000001\n",
      "Phan tu  2 , Gia tri theta1 =  1.584\n",
      "Lan lap:  0\n",
      "Phan tu  0 ,y =  2 , h = 1 , gia tri theta0 =  0.2\n",
      "Phan tu  0 , Gia tri theta1 =  1.2\n",
      "Phan tu  1 ,y =  3 , h = 2.6 , gia tri theta0 =  0.28\n",
      "Phan tu  1 , Gia tri theta1 =  1.3599999999999999\n",
      "Phan tu  2 ,y =  6 , h = 5.72 , gia tri theta0 =  0.3360000000000001\n",
      "Phan tu  2 , Gia tri theta1 =  1.584\n",
      "Lan lap:  1\n",
      "Phan tu  0 ,y =  2 , h = 1.9200000000000002 , gia tri theta0 =  0.35200000000000004\n",
      "Phan tu  0 , Gia tri theta1 =  1.6\n",
      "Phan tu  1 ,y =  3 , h = 3.552 , gia tri theta0 =  0.24160000000000004\n",
      "Phan tu  1 , Gia tri theta1 =  1.3792\n",
      "Phan tu  2 ,y =  6 , h = 5.7584 , gia tri theta0 =  0.28992000000000007\n",
      "Phan tu  2 , Gia tri theta1 =  1.57248\n"
     ]
    }
   ],
   "source": [
    "theta = LR1(X, Y, 0.2, 1, 0, 1)\n",
    "X1 = np.array([1, 6])\n",
    "Y1 = theta[0] + theta[1]*X1\n",
    "\n",
    "theta2 = LR1(X, Y, 0.2, 2, 0, 1)\n",
    "X2 = np.array([1, 6])\n",
    "Y2 = theta2[0] + theta[1]*X2\n"
   ]
  },
  {
   "cell_type": "code",
   "execution_count": 9,
   "metadata": {},
   "outputs": [
    {
     "data": {
      "image/png": "[encoded data removed]",
      "text/plain": [
       "<Figure size 432x288 with 1 Axes>"
      ]
     },
     "metadata": {
      "needs_background": "light"
     },
     "output_type": "display_data"
    }
   ],
   "source": [
    "plt.axis([0, 7, 0, 10])\n",
    "plt.plot(X, Y, \"ro\",color=\"blue\")\n",
    "\n",
    "plt.plot(X1, Y1, color=\"violet\")\n",
    "plt.plot(X2, Y2, color=\"green\")\n",
    "\n",
    "plt.xlabel(\"Gia tri thuoc tinh X\")\n",
    "plt.ylabel(\"Gia tri thuoc tinh Y\")\n",
    "plt.show()"
   ]
  },
  {
   "cell_type": "code",
   "execution_count": 10,
   "metadata": {},
   "outputs": [
    {
     "name": "stdout",
     "output_type": "stream",
     "text": [
      "0.336\n",
      "5.088\n",
      "8.256\n"
     ]
    }
   ],
   "source": [
    "# Du bao\n",
    "XX = [0, 3, 5]\n",
    "for i in range(0, 3):\n",
    "    YY = theta[0] + theta[1]*XX[i]\n",
    "    print(round(YY, 3))"
   ]
  },
  {
   "cell_type": "code",
   "execution_count": 12,
   "metadata": {},
   "outputs": [
    {
     "name": "stdout",
     "output_type": "stream",
     "text": [
      "0.29\n",
      "5.007\n",
      "8.152\n"
     ]
    }
   ],
   "source": [
    "# Du bao\n",
    "XX = [0, 3, 5]\n",
    "for i in range(0, 3):\n",
    "    YY = theta2[0] + theta2[1]*XX[i]\n",
    "    print(round(YY, 3))"
   ]
  },
  {
   "cell_type": "code",
   "execution_count": null,
   "metadata": {},
   "outputs": [],
   "source": []
  },
  {
   "cell_type": "code",
   "execution_count": null,
   "metadata": {},
   "outputs": [],
   "source": []
  },
  {
   "cell_type": "code",
   "execution_count": null,
   "metadata": {},
   "outputs": [],
   "source": []
  },
  {
   "cell_type": "code",
   "execution_count": null,
   "metadata": {},
   "outputs": [],
   "source": []
  }
 ],
 "metadata": {
  "kernelspec": {
   "display_name": "Python 3",
   "language": "python",
   "name": "python3"
  },
  "language_info": {
   "codemirror_mode": {
    "name": "ipython",
    "version": 3
   },
   "file_extension": ".py",
   "mimetype": "text/x-python",
   "name": "python",
   "nbconvert_exporter": "python",
   "pygments_lexer": "ipython3",
   "version": "3.6.8"
  }
 },
 "nbformat": 4,
 "nbformat_minor": 4
}
