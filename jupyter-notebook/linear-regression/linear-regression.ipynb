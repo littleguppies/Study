{
 "cells": [
  {
   "cell_type": "code",
   "execution_count": 9,
   "metadata": {},
   "outputs": [],
   "source": [
    "import numpy as np\n",
    "import pandas as pd\n",
    "import matplotlib.pyplot as plt"
   ]
  },
  {
   "cell_type": "code",
   "execution_count": 10,
   "metadata": {},
   "outputs": [],
   "source": [
    "data = pd.read_csv('data_linear.csv').values"
   ]
  },
  {
   "cell_type": "code",
   "execution_count": null,
   "metadata": {},
   "outputs": [],
   "source": []
  },
  {
   "cell_type": "code",
   "execution_count": null,
   "metadata": {},
   "outputs": [],
   "source": []
  },
  {
   "cell_type": "code",
   "execution_count": 63,
   "metadata": {},
   "outputs": [
    {
     "data": {
      "text/plain": [
       "array([[  30.    ,  448.524 ],\n",
       "       [  32.4138,  509.248 ],\n",
       "       [  34.8276,  535.104 ],\n",
       "       [  37.2414,  551.432 ],\n",
       "       [  39.6552,  623.418 ],\n",
       "       [  42.069 ,  625.992 ],\n",
       "       [  44.4828,  655.248 ],\n",
       "       [  46.8966,  701.377 ],\n",
       "       [  49.3103,  748.918 ],\n",
       "       [  51.7241,  757.881 ],\n",
       "       [  54.1379,  831.004 ],\n",
       "       [  56.5517,  855.409 ],\n",
       "       [  58.9655,  866.707 ],\n",
       "       [  61.3793,  902.545 ],\n",
       "       [  63.7931,  952.261 ],\n",
       "       [  66.2069,  995.531 ],\n",
       "       [  68.6207, 1069.78  ],\n",
       "       [  71.0345, 1074.42  ],\n",
       "       [  73.4483, 1103.88  ],\n",
       "       [  75.8621, 1138.69  ],\n",
       "       [  78.2759, 1153.13  ],\n",
       "       [  80.6897, 1240.27  ],\n",
       "       [  83.1034, 1251.9   ],\n",
       "       [  85.5172, 1287.97  ],\n",
       "       [  87.931 , 1320.47  ],\n",
       "       [  90.3448, 1374.92  ],\n",
       "       [  92.7586, 1410.16  ],\n",
       "       [  95.1724, 1469.69  ],\n",
       "       [  97.5862, 1478.54  ],\n",
       "       [ 100.    , 1515.28  ]])"
      ]
     },
     "execution_count": 63,
     "metadata": {},
     "output_type": "execute_result"
    }
   ],
   "source": [
    "N = data.shape[0]\n",
    "data"
   ]
  },
  {
   "cell_type": "code",
   "execution_count": 64,
   "metadata": {},
   "outputs": [],
   "source": [
    "x = data[:, 0].reshape(-1, 1)\n",
    "y = data[:, 1].reshape(-1, 1)"
   ]
  },
  {
   "cell_type": "code",
   "execution_count": 65,
   "metadata": {},
   "outputs": [
    {
     "data": {
      "text/plain": [
       "Text(0, 0.5, 'Gia')"
      ]
     },
     "execution_count": 65,
     "metadata": {},
     "output_type": "execute_result"
    },
    {
     "data": {
      "image/png": "[encoded data removed]",
      "text/plain": [
       "<Figure size 432x288 with 1 Axes>"
      ]
     },
     "metadata": {
      "needs_background": "light"
     },
     "output_type": "display_data"
    }
   ],
   "source": [
    "plt.scatter(x, y)\n",
    "plt.xlabel(\"Met vuong\")\n",
    "plt.ylabel(\"Gia\")"
   ]
  },
  {
   "cell_type": "code",
   "execution_count": 66,
   "metadata": {},
   "outputs": [],
   "source": [
    "x = np.c((np.ones((N, 1)), x))\n",
    "w = np.array([0.,1.]).reshape(-1,1)"
   ]
  },
  {
   "cell_type": "code",
   "execution_count": 67,
   "metadata": {},
   "outputs": [],
   "source": [
    "numOfIteration = 100\n",
    "cost = np.zeros((numOfIteration,1))\n",
    "learning_rate = 0.000001"
   ]
  },
  {
   "cell_type": "code",
   "execution_count": 68,
   "metadata": {},
   "outputs": [
    {
     "name": "stdout",
     "output_type": "stream",
     "text": [
      "[13929872.64455245]\n",
      "[10306582.37422079]\n",
      "[7625999.18237673]\n",
      "[5642849.69326854]\n",
      "[4175675.71851866]\n",
      "[3090230.83195734]\n",
      "[2287196.82094014]\n",
      "[1693096.06938209]\n",
      "[1253568.35550934]\n",
      "[928396.89128833]\n",
      "[687828.48611463]\n",
      "[509851.12972016]\n",
      "[378179.89312088]\n",
      "[280766.8575313]\n",
      "[208698.72973386]\n",
      "[155381.27570385]\n",
      "[115935.94816237]\n",
      "[86753.4994753]\n",
      "[65163.7354763]\n",
      "[49191.19268689]\n",
      "[37374.38339803]\n",
      "[28632.06953731]\n",
      "[22164.32937972]\n",
      "[17379.36470576]\n",
      "[13839.35126131]\n",
      "[11220.37783611]\n",
      "[9282.80838638]\n",
      "[7849.35533562]\n",
      "[6788.85776037]\n",
      "[6004.28016513]\n",
      "[5423.83373397]\n",
      "[4994.40765352]\n",
      "[4676.70947326]\n",
      "[4441.66984614]\n",
      "[4267.78268312]\n",
      "[4139.13734594]\n",
      "[4043.96282366]\n",
      "[3973.55068504]\n",
      "[3921.4582571]\n",
      "[3882.91912046]\n",
      "[3854.40698198]\n",
      "[3833.3130189]\n",
      "[3817.70717153]\n",
      "[3806.16154282]\n",
      "[3797.61974572]\n",
      "[3791.30024382]\n",
      "[3786.62484071]\n",
      "[3783.16577503]\n",
      "[3780.60658031]\n",
      "[3778.71312826]\n",
      "[3777.31220606]\n",
      "[3776.27566738]\n",
      "[3775.50870698]\n",
      "[3774.94118601]\n",
      "[3774.52121437]\n",
      "[3774.21040269]\n",
      "[3773.98034975]\n",
      "[3773.81004376]\n",
      "[3773.68393976]\n",
      "[3773.59053729]\n",
      "[3773.52132808]\n",
      "[3773.47001751]\n",
      "[3773.43194874]\n",
      "[3773.4036765]\n",
      "[3773.38265195]\n",
      "[3773.36698937]\n",
      "[3773.3552937]\n",
      "[3773.34653282]\n",
      "[3773.33994316]\n",
      "[3773.33495981]\n",
      "[3773.33116485]\n",
      "[3773.32824908]\n",
      "[3773.32598375]\n",
      "[3773.32419963]\n",
      "[3773.32277153]\n",
      "[3773.32160681]\n",
      "[3773.32063694]\n",
      "[3773.31981124]\n",
      "[3773.31909219]\n",
      "[3773.31845205]\n",
      "[3773.31787028]\n",
      "[3773.3173317]\n",
      "[3773.31682507]\n",
      "[3773.31634209]\n",
      "[3773.31587659]\n",
      "[3773.31542403]\n",
      "[3773.31498104]\n",
      "[3773.31454514]\n",
      "[3773.31411448]\n",
      "[3773.3136877]\n",
      "[3773.31326379]\n",
      "[3773.312842]\n",
      "[3773.31242178]\n",
      "[3773.31200273]\n",
      "[3773.31158454]\n",
      "[3773.31116698]\n",
      "[3773.3107499]\n",
      "[3773.31033317]\n",
      "[3773.3099167]\n"
     ]
    }
   ],
   "source": [
    "for i in range(1, numOfIteration):\n",
    "    r = np.dot(x, w) - y\n",
    "    cost[i] = 0.5*np.sum(r*r)\n",
    "    w[0] -= learning_rate*np.sum(r)\n",
    "    w[1] -= learning_rate*np.sum(np.multiply(r, x[:, 1].reshape(-1, 1)))\n",
    "    print(cost[i])"
   ]
  },
  {
   "cell_type": "code",
   "execution_count": 69,
   "metadata": {},
   "outputs": [
    {
     "data": {
      "image/png": "[encoded data removed]",
      "text/plain": [
       "<Figure size 432x288 with 1 Axes>"
      ]
     },
     "metadata": {
      "needs_background": "light"
     },
     "output_type": "display_data"
    }
   ],
   "source": [
    "predict = np.dot(x, w)\n",
    "plt.plot((x[0][1], x[N-1][1]),(predict[0], predict[N-1]), 'r')\n",
    "plt.show()"
   ]
  },
  {
   "cell_type": "code",
   "execution_count": 70,
   "metadata": {},
   "outputs": [
    {
     "name": "stdout",
     "output_type": "stream",
     "text": [
      "Giá nhà cho 50m^2 là :  [755.68795083]\n"
     ]
    }
   ],
   "source": [
    "x1 = 50\n",
    "y1 = w[0] + w[1] * 50\n",
    "print('Giá nhà cho 50m^2 là : ', y1)"
   ]
  },
  {
   "cell_type": "code",
   "execution_count": 71,
   "metadata": {},
   "outputs": [
    {
     "data": {
      "text/plain": [
       "array([[ 0.19473324],\n",
       "       [15.10986435]])"
      ]
     },
     "execution_count": 71,
     "metadata": {},
     "output_type": "execute_result"
    }
   ],
   "source": [
    "w"
   ]
  },
  {
   "cell_type": "code",
   "execution_count": null,
   "metadata": {},
   "outputs": [],
   "source": []
  },
  {
   "cell_type": "code",
   "execution_count": null,
   "metadata": {},
   "outputs": [],
   "source": []
  },
  {
   "cell_type": "code",
   "execution_count": null,
   "metadata": {},
   "outputs": [],
   "source": []
  }
 ],
 "metadata": {
  "kernelspec": {
   "display_name": "Python 3",
   "language": "python",
   "name": "python3"
  },
  "language_info": {
   "codemirror_mode": {
    "name": "ipython",
    "version": 3
   },
   "file_extension": ".py",
   "mimetype": "text/x-python",
   "name": "python",
   "nbconvert_exporter": "python",
   "pygments_lexer": "ipython3",
   "version": "3.6.8"
  }
 },
 "nbformat": 4,
 "nbformat_minor": 4
}
