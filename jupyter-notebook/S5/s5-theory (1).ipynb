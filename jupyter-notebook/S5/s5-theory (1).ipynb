{
 "cells": [
  {
   "cell_type": "code",
   "execution_count": 1,
   "metadata": {},
   "outputs": [],
   "source": [
    "import numpy as np\n",
    "import matplotlib.pyplot as plt"
   ]
  },
  {
   "cell_type": "code",
   "execution_count": 2,
   "metadata": {},
   "outputs": [],
   "source": [
    "X = np.array([[0, 0, 1, 1],[0, 1, 0, 1]])\n",
    "Y = np.array([0, 0, 0, 1])"
   ]
  },
  {
   "cell_type": "code",
   "execution_count": 3,
   "metadata": {},
   "outputs": [
    {
     "data": {
      "text/plain": [
       "array([[0, 0, 1, 1],\n",
       "       [0, 1, 0, 1]])"
      ]
     },
     "execution_count": 3,
     "metadata": {},
     "output_type": "execute_result"
    }
   ],
   "source": [
    "X"
   ]
  },
  {
   "cell_type": "code",
   "execution_count": 4,
   "metadata": {},
   "outputs": [],
   "source": [
    "X = X.T"
   ]
  },
  {
   "cell_type": "code",
   "execution_count": 5,
   "metadata": {},
   "outputs": [
    {
     "data": {
      "text/plain": [
       "array([[0, 0],\n",
       "       [0, 1],\n",
       "       [1, 0],\n",
       "       [1, 1]])"
      ]
     },
     "execution_count": 5,
     "metadata": {},
     "output_type": "execute_result"
    }
   ],
   "source": [
    "X"
   ]
  },
  {
   "cell_type": "code",
   "execution_count": 6,
   "metadata": {},
   "outputs": [],
   "source": [
    "colorMap = np.array(['red', 'green'])"
   ]
  },
  {
   "cell_type": "code",
   "execution_count": 7,
   "metadata": {},
   "outputs": [
    {
     "data": {
      "text/plain": [
       "[0, 1.2, 0, 1.2]"
      ]
     },
     "execution_count": 7,
     "metadata": {},
     "output_type": "execute_result"
    },
    {
     "data": {
      "image/png": "[encoded data removed]",
      "text/plain": [
       "<Figure size 432x288 with 1 Axes>"
      ]
     },
     "metadata": {
      "needs_background": "light"
     },
     "output_type": "display_data"
    }
   ],
   "source": [
    "plt.axis([0, 1.2, 0, 1.2])"
   ]
  },
  {
   "cell_type": "code",
   "execution_count": 32,
   "metadata": {},
   "outputs": [
    {
     "data": {
      "image/png": "[encoded data removed]",
      "text/plain": [
       "<Figure size 432x288 with 1 Axes>"
      ]
     },
     "metadata": {
      "needs_background": "light"
     },
     "output_type": "display_data"
    }
   ],
   "source": [
    "plt.scatter(X[:,0], X[:,1], c=colorMap[Y], s= 150)\n",
    "plt.xlabel(\"Gia tri X1\")\n",
    "plt.ylabel(\"Gia tri X2\")\n",
    "plt.show()"
   ]
  },
  {
   "cell_type": "code",
   "execution_count": 17,
   "metadata": {},
   "outputs": [
    {
     "data": {
      "text/plain": [
       "array([0, 0, 1, 1])"
      ]
     },
     "execution_count": 17,
     "metadata": {},
     "output_type": "execute_result"
    }
   ],
   "source": [
    "X[:, 0]"
   ]
  },
  {
   "cell_type": "code",
   "execution_count": 18,
   "metadata": {},
   "outputs": [
    {
     "data": {
      "text/plain": [
       "array([[0, 0],\n",
       "       [0, 1],\n",
       "       [1, 0],\n",
       "       [1, 1]])"
      ]
     },
     "execution_count": 18,
     "metadata": {},
     "output_type": "execute_result"
    }
   ],
   "source": [
    "X"
   ]
  },
  {
   "cell_type": "markdown",
   "metadata": {},
   "source": [
    "# cai dat day thuat"
   ]
  },
  {
   "cell_type": "code",
   "execution_count": 8,
   "metadata": {},
   "outputs": [],
   "source": [
    "import random\n",
    "import numpy as np\n",
    "\n",
    "X = np.array([[0, 0, 1, 1],[0, 1, 0, 1]])\n",
    "Y = np.array([0, 0, 0, 1])\n",
    "X = X.T\n",
    "\n",
    "def my_perceptron(X, y, eta, lanlap):\n",
    "    n = len(X[0,])\n",
    "    m = len(X[:,0])\n",
    "    print(\"m = \", m, \"va n =\", n)\n",
    "    w0 = random.random()\n",
    "    w = np.random.random()\n",
    "    #w0= -0.2\n",
    "    #w = (0.5, 0.5)\n",
    "    print(\" w0 =\", w0)\n",
    "    print(\" w =\", w)\n",
    "    for t in range(0, lanlap):\n",
    "        print(\"lanlap ----\", t)\n",
    "        for i in range(0, m):\n",
    "            gx = w0 + sum(X[i,]*w)\n",
    "            print(\"gx = \", gx)\n",
    "            if(gx > 0):\n",
    "                output = 1\n",
    "            else:\n",
    "                output = 0\n",
    "            w0 = w0 + eta*(y[i] - output)\n",
    "            w = w + eta*(y[i] - output)*X[i,]\n",
    "            print(\" w0 =\", w0)\n",
    "            print(\" w =\", w)\n",
    "    return (w0, w)\n",
    "            \n"
   ]
  },
  {
   "cell_type": "code",
   "execution_count": 9,
   "metadata": {},
   "outputs": [
    {
     "name": "stdout",
     "output_type": "stream",
     "text": [
      "m =  4 va n = 2\n",
      " w0 = 0.44795570924971484\n",
      " w = 0.513648986917729\n",
      "lanlap ---- 0\n",
      "gx =  0.44795570924971484\n",
      " w0 = 0.2979557092497148\n",
      " w = [0.51364899 0.51364899]\n",
      "gx =  0.8116046961674438\n",
      " w0 = 0.14795570924971482\n",
      " w = [0.51364899 0.36364899]\n",
      "gx =  0.6616046961674438\n",
      " w0 = -0.0020442907502851715\n",
      " w = [0.36364899 0.36364899]\n",
      "gx =  0.7252536830851728\n",
      " w0 = -0.0020442907502851715\n",
      " w = [0.36364899 0.36364899]\n",
      "lanlap ---- 1\n",
      "gx =  -0.0020442907502851715\n",
      " w0 = -0.0020442907502851715\n",
      " w = [0.36364899 0.36364899]\n",
      "gx =  0.3616046961674438\n",
      " w0 = -0.15204429075028517\n",
      " w = [0.36364899 0.21364899]\n",
      "gx =  0.2116046961674438\n",
      " w0 = -0.30204429075028516\n",
      " w = [0.21364899 0.21364899]\n",
      "gx =  0.12525368308517276\n",
      " w0 = -0.30204429075028516\n",
      " w = [0.21364899 0.21364899]\n",
      "lanlap ---- 2\n",
      "gx =  -0.30204429075028516\n",
      " w0 = -0.30204429075028516\n",
      " w = [0.21364899 0.21364899]\n",
      "gx =  -0.0883953038325562\n",
      " w0 = -0.30204429075028516\n",
      " w = [0.21364899 0.21364899]\n",
      "gx =  -0.0883953038325562\n",
      " w0 = -0.30204429075028516\n",
      " w = [0.21364899 0.21364899]\n",
      "gx =  0.12525368308517276\n",
      " w0 = -0.30204429075028516\n",
      " w = [0.21364899 0.21364899]\n",
      "lanlap ---- 3\n",
      "gx =  -0.30204429075028516\n",
      " w0 = -0.30204429075028516\n",
      " w = [0.21364899 0.21364899]\n",
      "gx =  -0.0883953038325562\n",
      " w0 = -0.30204429075028516\n",
      " w = [0.21364899 0.21364899]\n",
      "gx =  -0.0883953038325562\n",
      " w0 = -0.30204429075028516\n",
      " w = [0.21364899 0.21364899]\n",
      "gx =  0.12525368308517276\n",
      " w0 = -0.30204429075028516\n",
      " w = [0.21364899 0.21364899]\n",
      "lanlap ---- 4\n",
      "gx =  -0.30204429075028516\n",
      " w0 = -0.30204429075028516\n",
      " w = [0.21364899 0.21364899]\n",
      "gx =  -0.0883953038325562\n",
      " w0 = -0.30204429075028516\n",
      " w = [0.21364899 0.21364899]\n",
      "gx =  -0.0883953038325562\n",
      " w0 = -0.30204429075028516\n",
      " w = [0.21364899 0.21364899]\n",
      "gx =  0.12525368308517276\n",
      " w0 = -0.30204429075028516\n",
      " w = [0.21364899 0.21364899]\n",
      "lanlap ---- 5\n",
      "gx =  -0.30204429075028516\n",
      " w0 = -0.30204429075028516\n",
      " w = [0.21364899 0.21364899]\n",
      "gx =  -0.0883953038325562\n",
      " w0 = -0.30204429075028516\n",
      " w = [0.21364899 0.21364899]\n",
      "gx =  -0.0883953038325562\n",
      " w0 = -0.30204429075028516\n",
      " w = [0.21364899 0.21364899]\n",
      "gx =  0.12525368308517276\n",
      " w0 = -0.30204429075028516\n",
      " w = [0.21364899 0.21364899]\n",
      "lanlap ---- 6\n",
      "gx =  -0.30204429075028516\n",
      " w0 = -0.30204429075028516\n",
      " w = [0.21364899 0.21364899]\n",
      "gx =  -0.0883953038325562\n",
      " w0 = -0.30204429075028516\n",
      " w = [0.21364899 0.21364899]\n",
      "gx =  -0.0883953038325562\n",
      " w0 = -0.30204429075028516\n",
      " w = [0.21364899 0.21364899]\n",
      "gx =  0.12525368308517276\n",
      " w0 = -0.30204429075028516\n",
      " w = [0.21364899 0.21364899]\n",
      "lanlap ---- 7\n",
      "gx =  -0.30204429075028516\n",
      " w0 = -0.30204429075028516\n",
      " w = [0.21364899 0.21364899]\n",
      "gx =  -0.0883953038325562\n",
      " w0 = -0.30204429075028516\n",
      " w = [0.21364899 0.21364899]\n",
      "gx =  -0.0883953038325562\n",
      " w0 = -0.30204429075028516\n",
      " w = [0.21364899 0.21364899]\n",
      "gx =  0.12525368308517276\n",
      " w0 = -0.30204429075028516\n",
      " w = [0.21364899 0.21364899]\n",
      "lanlap ---- 8\n",
      "gx =  -0.30204429075028516\n",
      " w0 = -0.30204429075028516\n",
      " w = [0.21364899 0.21364899]\n",
      "gx =  -0.0883953038325562\n",
      " w0 = -0.30204429075028516\n",
      " w = [0.21364899 0.21364899]\n",
      "gx =  -0.0883953038325562\n",
      " w0 = -0.30204429075028516\n",
      " w = [0.21364899 0.21364899]\n",
      "gx =  0.12525368308517276\n",
      " w0 = -0.30204429075028516\n",
      " w = [0.21364899 0.21364899]\n",
      "lanlap ---- 9\n",
      "gx =  -0.30204429075028516\n",
      " w0 = -0.30204429075028516\n",
      " w = [0.21364899 0.21364899]\n",
      "gx =  -0.0883953038325562\n",
      " w0 = -0.30204429075028516\n",
      " w = [0.21364899 0.21364899]\n",
      "gx =  -0.0883953038325562\n",
      " w0 = -0.30204429075028516\n",
      " w = [0.21364899 0.21364899]\n",
      "gx =  0.12525368308517276\n",
      " w0 = -0.30204429075028516\n",
      " w = [0.21364899 0.21364899]\n",
      "lanlap ---- 10\n",
      "gx =  -0.30204429075028516\n",
      " w0 = -0.30204429075028516\n",
      " w = [0.21364899 0.21364899]\n",
      "gx =  -0.0883953038325562\n",
      " w0 = -0.30204429075028516\n",
      " w = [0.21364899 0.21364899]\n",
      "gx =  -0.0883953038325562\n",
      " w0 = -0.30204429075028516\n",
      " w = [0.21364899 0.21364899]\n",
      "gx =  0.12525368308517276\n",
      " w0 = -0.30204429075028516\n",
      " w = [0.21364899 0.21364899]\n",
      "lanlap ---- 11\n",
      "gx =  -0.30204429075028516\n",
      " w0 = -0.30204429075028516\n",
      " w = [0.21364899 0.21364899]\n",
      "gx =  -0.0883953038325562\n",
      " w0 = -0.30204429075028516\n",
      " w = [0.21364899 0.21364899]\n",
      "gx =  -0.0883953038325562\n",
      " w0 = -0.30204429075028516\n",
      " w = [0.21364899 0.21364899]\n",
      "gx =  0.12525368308517276\n",
      " w0 = -0.30204429075028516\n",
      " w = [0.21364899 0.21364899]\n",
      "lanlap ---- 12\n",
      "gx =  -0.30204429075028516\n",
      " w0 = -0.30204429075028516\n",
      " w = [0.21364899 0.21364899]\n",
      "gx =  -0.0883953038325562\n",
      " w0 = -0.30204429075028516\n",
      " w = [0.21364899 0.21364899]\n",
      "gx =  -0.0883953038325562\n",
      " w0 = -0.30204429075028516\n",
      " w = [0.21364899 0.21364899]\n",
      "gx =  0.12525368308517276\n",
      " w0 = -0.30204429075028516\n",
      " w = [0.21364899 0.21364899]\n",
      "lanlap ---- 13\n",
      "gx =  -0.30204429075028516\n",
      " w0 = -0.30204429075028516\n",
      " w = [0.21364899 0.21364899]\n",
      "gx =  -0.0883953038325562\n",
      " w0 = -0.30204429075028516\n",
      " w = [0.21364899 0.21364899]\n",
      "gx =  -0.0883953038325562\n",
      " w0 = -0.30204429075028516\n",
      " w = [0.21364899 0.21364899]\n",
      "gx =  0.12525368308517276\n",
      " w0 = -0.30204429075028516\n",
      " w = [0.21364899 0.21364899]\n",
      "lanlap ---- 14\n",
      "gx =  -0.30204429075028516\n",
      " w0 = -0.30204429075028516\n",
      " w = [0.21364899 0.21364899]\n",
      "gx =  -0.0883953038325562\n",
      " w0 = -0.30204429075028516\n",
      " w = [0.21364899 0.21364899]\n",
      "gx =  -0.0883953038325562\n",
      " w0 = -0.30204429075028516\n",
      " w = [0.21364899 0.21364899]\n",
      "gx =  0.12525368308517276\n",
      " w0 = -0.30204429075028516\n",
      " w = [0.21364899 0.21364899]\n",
      "lanlap ---- 15\n",
      "gx =  -0.30204429075028516\n",
      " w0 = -0.30204429075028516\n",
      " w = [0.21364899 0.21364899]\n",
      "gx =  -0.0883953038325562\n",
      " w0 = -0.30204429075028516\n",
      " w = [0.21364899 0.21364899]\n",
      "gx =  -0.0883953038325562\n",
      " w0 = -0.30204429075028516\n",
      " w = [0.21364899 0.21364899]\n",
      "gx =  0.12525368308517276\n",
      " w0 = -0.30204429075028516\n",
      " w = [0.21364899 0.21364899]\n",
      "lanlap ---- 16\n",
      "gx =  -0.30204429075028516\n",
      " w0 = -0.30204429075028516\n",
      " w = [0.21364899 0.21364899]\n",
      "gx =  -0.0883953038325562\n",
      " w0 = -0.30204429075028516\n",
      " w = [0.21364899 0.21364899]\n",
      "gx =  -0.0883953038325562\n",
      " w0 = -0.30204429075028516\n",
      " w = [0.21364899 0.21364899]\n",
      "gx =  0.12525368308517276\n",
      " w0 = -0.30204429075028516\n",
      " w = [0.21364899 0.21364899]\n",
      "lanlap ---- 17\n",
      "gx =  -0.30204429075028516\n",
      " w0 = -0.30204429075028516\n",
      " w = [0.21364899 0.21364899]\n",
      "gx =  -0.0883953038325562\n",
      " w0 = -0.30204429075028516\n",
      " w = [0.21364899 0.21364899]\n",
      "gx =  -0.0883953038325562\n",
      " w0 = -0.30204429075028516\n",
      " w = [0.21364899 0.21364899]\n",
      "gx =  0.12525368308517276\n",
      " w0 = -0.30204429075028516\n",
      " w = [0.21364899 0.21364899]\n",
      "lanlap ---- 18\n",
      "gx =  -0.30204429075028516\n",
      " w0 = -0.30204429075028516\n",
      " w = [0.21364899 0.21364899]\n",
      "gx =  -0.0883953038325562\n",
      " w0 = -0.30204429075028516\n",
      " w = [0.21364899 0.21364899]\n",
      "gx =  -0.0883953038325562\n",
      " w0 = -0.30204429075028516\n",
      " w = [0.21364899 0.21364899]\n",
      "gx =  0.12525368308517276\n",
      " w0 = -0.30204429075028516\n",
      " w = [0.21364899 0.21364899]\n",
      "lanlap ---- 19\n",
      "gx =  -0.30204429075028516\n",
      " w0 = -0.30204429075028516\n",
      " w = [0.21364899 0.21364899]\n",
      "gx =  -0.0883953038325562\n",
      " w0 = -0.30204429075028516\n",
      " w = [0.21364899 0.21364899]\n",
      "gx =  -0.0883953038325562\n",
      " w0 = -0.30204429075028516\n",
      " w = [0.21364899 0.21364899]\n",
      "gx =  0.12525368308517276\n",
      " w0 = -0.30204429075028516\n",
      " w = [0.21364899 0.21364899]\n"
     ]
    },
    {
     "data": {
      "text/plain": [
       "(-0.30204429075028516, array([0.21364899, 0.21364899]))"
      ]
     },
     "execution_count": 9,
     "metadata": {},
     "output_type": "execute_result"
    }
   ],
   "source": [
    "my_perceptron(X, Y, 0.15, 20)"
   ]
  },
  {
   "cell_type": "markdown",
   "metadata": {},
   "source": [
    "# using sklearn"
   ]
  },
  {
   "cell_type": "code",
   "execution_count": 10,
   "metadata": {},
   "outputs": [],
   "source": [
    "import pandas as pd\n",
    "import numpy as np\n",
    "from sklearn.model_selection import train_test_split\n",
    "from sklearn.linear_model import Perceptron"
   ]
  },
  {
   "cell_type": "code",
   "execution_count": 11,
   "metadata": {},
   "outputs": [
    {
     "data": {
      "text/html": [
       "<div>\n",
       "<style scoped>\n",
       "    .dataframe tbody tr th:only-of-type {\n",
       "        vertical-align: middle;\n",
       "    }\n",
       "\n",
       "    .dataframe tbody tr th {\n",
       "        vertical-align: top;\n",
       "    }\n",
       "\n",
       "    .dataframe thead th {\n",
       "        text-align: right;\n",
       "    }\n",
       "</style>\n",
       "<table border=\"1\" class=\"dataframe\">\n",
       "  <thead>\n",
       "    <tr style=\"text-align: right;\">\n",
       "      <th></th>\n",
       "      <th>X1</th>\n",
       "      <th>X2</th>\n",
       "      <th>X3</th>\n",
       "      <th>X4</th>\n",
       "      <th>X5</th>\n",
       "      <th>Y</th>\n",
       "    </tr>\n",
       "  </thead>\n",
       "  <tbody>\n",
       "    <tr>\n",
       "      <th>0</th>\n",
       "      <td>42000</td>\n",
       "      <td>5850</td>\n",
       "      <td>3</td>\n",
       "      <td>1</td>\n",
       "      <td>2</td>\n",
       "      <td>0</td>\n",
       "    </tr>\n",
       "    <tr>\n",
       "      <th>1</th>\n",
       "      <td>38500</td>\n",
       "      <td>4000</td>\n",
       "      <td>2</td>\n",
       "      <td>1</td>\n",
       "      <td>1</td>\n",
       "      <td>0</td>\n",
       "    </tr>\n",
       "    <tr>\n",
       "      <th>2</th>\n",
       "      <td>49500</td>\n",
       "      <td>3060</td>\n",
       "      <td>3</td>\n",
       "      <td>1</td>\n",
       "      <td>1</td>\n",
       "      <td>0</td>\n",
       "    </tr>\n",
       "    <tr>\n",
       "      <th>3</th>\n",
       "      <td>60500</td>\n",
       "      <td>6650</td>\n",
       "      <td>3</td>\n",
       "      <td>1</td>\n",
       "      <td>2</td>\n",
       "      <td>1</td>\n",
       "    </tr>\n",
       "    <tr>\n",
       "      <th>4</th>\n",
       "      <td>61000</td>\n",
       "      <td>6360</td>\n",
       "      <td>2</td>\n",
       "      <td>1</td>\n",
       "      <td>1</td>\n",
       "      <td>1</td>\n",
       "    </tr>\n",
       "    <tr>\n",
       "      <th>5</th>\n",
       "      <td>66000</td>\n",
       "      <td>4160</td>\n",
       "      <td>3</td>\n",
       "      <td>1</td>\n",
       "      <td>1</td>\n",
       "      <td>1</td>\n",
       "    </tr>\n",
       "    <tr>\n",
       "      <th>6</th>\n",
       "      <td>66000</td>\n",
       "      <td>3880</td>\n",
       "      <td>3</td>\n",
       "      <td>2</td>\n",
       "      <td>2</td>\n",
       "      <td>1</td>\n",
       "    </tr>\n",
       "    <tr>\n",
       "      <th>7</th>\n",
       "      <td>69000</td>\n",
       "      <td>4160</td>\n",
       "      <td>3</td>\n",
       "      <td>1</td>\n",
       "      <td>3</td>\n",
       "      <td>1</td>\n",
       "    </tr>\n",
       "    <tr>\n",
       "      <th>8</th>\n",
       "      <td>83800</td>\n",
       "      <td>4800</td>\n",
       "      <td>3</td>\n",
       "      <td>1</td>\n",
       "      <td>1</td>\n",
       "      <td>1</td>\n",
       "    </tr>\n",
       "    <tr>\n",
       "      <th>9</th>\n",
       "      <td>88500</td>\n",
       "      <td>5500</td>\n",
       "      <td>3</td>\n",
       "      <td>2</td>\n",
       "      <td>4</td>\n",
       "      <td>1</td>\n",
       "    </tr>\n",
       "    <tr>\n",
       "      <th>10</th>\n",
       "      <td>90000</td>\n",
       "      <td>7200</td>\n",
       "      <td>3</td>\n",
       "      <td>2</td>\n",
       "      <td>1</td>\n",
       "      <td>1</td>\n",
       "    </tr>\n",
       "    <tr>\n",
       "      <th>11</th>\n",
       "      <td>30500</td>\n",
       "      <td>3000</td>\n",
       "      <td>2</td>\n",
       "      <td>1</td>\n",
       "      <td>1</td>\n",
       "      <td>0</td>\n",
       "    </tr>\n",
       "    <tr>\n",
       "      <th>12</th>\n",
       "      <td>27000</td>\n",
       "      <td>1700</td>\n",
       "      <td>3</td>\n",
       "      <td>1</td>\n",
       "      <td>2</td>\n",
       "      <td>0</td>\n",
       "    </tr>\n",
       "    <tr>\n",
       "      <th>13</th>\n",
       "      <td>36000</td>\n",
       "      <td>2880</td>\n",
       "      <td>3</td>\n",
       "      <td>1</td>\n",
       "      <td>1</td>\n",
       "      <td>0</td>\n",
       "    </tr>\n",
       "    <tr>\n",
       "      <th>14</th>\n",
       "      <td>37000</td>\n",
       "      <td>3600</td>\n",
       "      <td>2</td>\n",
       "      <td>1</td>\n",
       "      <td>1</td>\n",
       "      <td>0</td>\n",
       "    </tr>\n",
       "    <tr>\n",
       "      <th>15</th>\n",
       "      <td>37900</td>\n",
       "      <td>3185</td>\n",
       "      <td>2</td>\n",
       "      <td>1</td>\n",
       "      <td>1</td>\n",
       "      <td>0</td>\n",
       "    </tr>\n",
       "    <tr>\n",
       "      <th>16</th>\n",
       "      <td>40500</td>\n",
       "      <td>3300</td>\n",
       "      <td>3</td>\n",
       "      <td>1</td>\n",
       "      <td>2</td>\n",
       "      <td>0</td>\n",
       "    </tr>\n",
       "    <tr>\n",
       "      <th>17</th>\n",
       "      <td>40750</td>\n",
       "      <td>5200</td>\n",
       "      <td>4</td>\n",
       "      <td>1</td>\n",
       "      <td>3</td>\n",
       "      <td>0</td>\n",
       "    </tr>\n",
       "    <tr>\n",
       "      <th>18</th>\n",
       "      <td>45000</td>\n",
       "      <td>3450</td>\n",
       "      <td>1</td>\n",
       "      <td>1</td>\n",
       "      <td>1</td>\n",
       "      <td>0</td>\n",
       "    </tr>\n",
       "    <tr>\n",
       "      <th>19</th>\n",
       "      <td>45000</td>\n",
       "      <td>3986</td>\n",
       "      <td>2</td>\n",
       "      <td>2</td>\n",
       "      <td>1</td>\n",
       "      <td>0</td>\n",
       "    </tr>\n",
       "    <tr>\n",
       "      <th>20</th>\n",
       "      <td>48500</td>\n",
       "      <td>4785</td>\n",
       "      <td>3</td>\n",
       "      <td>1</td>\n",
       "      <td>2</td>\n",
       "      <td>0</td>\n",
       "    </tr>\n",
       "    <tr>\n",
       "      <th>21</th>\n",
       "      <td>65900</td>\n",
       "      <td>4510</td>\n",
       "      <td>4</td>\n",
       "      <td>2</td>\n",
       "      <td>2</td>\n",
       "      <td>1</td>\n",
       "    </tr>\n",
       "    <tr>\n",
       "      <th>22</th>\n",
       "      <td>37900</td>\n",
       "      <td>4000</td>\n",
       "      <td>3</td>\n",
       "      <td>1</td>\n",
       "      <td>2</td>\n",
       "      <td>0</td>\n",
       "    </tr>\n",
       "    <tr>\n",
       "      <th>23</th>\n",
       "      <td>38000</td>\n",
       "      <td>3934</td>\n",
       "      <td>2</td>\n",
       "      <td>1</td>\n",
       "      <td>1</td>\n",
       "      <td>0</td>\n",
       "    </tr>\n",
       "    <tr>\n",
       "      <th>24</th>\n",
       "      <td>42000</td>\n",
       "      <td>4960</td>\n",
       "      <td>2</td>\n",
       "      <td>1</td>\n",
       "      <td>1</td>\n",
       "      <td>0</td>\n",
       "    </tr>\n",
       "    <tr>\n",
       "      <th>25</th>\n",
       "      <td>42300</td>\n",
       "      <td>3000</td>\n",
       "      <td>2</td>\n",
       "      <td>1</td>\n",
       "      <td>2</td>\n",
       "      <td>0</td>\n",
       "    </tr>\n",
       "    <tr>\n",
       "      <th>26</th>\n",
       "      <td>43500</td>\n",
       "      <td>3800</td>\n",
       "      <td>2</td>\n",
       "      <td>1</td>\n",
       "      <td>1</td>\n",
       "      <td>0</td>\n",
       "    </tr>\n",
       "    <tr>\n",
       "      <th>27</th>\n",
       "      <td>44000</td>\n",
       "      <td>4960</td>\n",
       "      <td>2</td>\n",
       "      <td>1</td>\n",
       "      <td>1</td>\n",
       "      <td>0</td>\n",
       "    </tr>\n",
       "    <tr>\n",
       "      <th>28</th>\n",
       "      <td>44500</td>\n",
       "      <td>3000</td>\n",
       "      <td>3</td>\n",
       "      <td>1</td>\n",
       "      <td>1</td>\n",
       "      <td>0</td>\n",
       "    </tr>\n",
       "  </tbody>\n",
       "</table>\n",
       "</div>"
      ],
      "text/plain": [
       "       X1    X2  X3  X4  X5  Y\n",
       "0   42000  5850   3   1   2  0\n",
       "1   38500  4000   2   1   1  0\n",
       "2   49500  3060   3   1   1  0\n",
       "3   60500  6650   3   1   2  1\n",
       "4   61000  6360   2   1   1  1\n",
       "5   66000  4160   3   1   1  1\n",
       "6   66000  3880   3   2   2  1\n",
       "7   69000  4160   3   1   3  1\n",
       "8   83800  4800   3   1   1  1\n",
       "9   88500  5500   3   2   4  1\n",
       "10  90000  7200   3   2   1  1\n",
       "11  30500  3000   2   1   1  0\n",
       "12  27000  1700   3   1   2  0\n",
       "13  36000  2880   3   1   1  0\n",
       "14  37000  3600   2   1   1  0\n",
       "15  37900  3185   2   1   1  0\n",
       "16  40500  3300   3   1   2  0\n",
       "17  40750  5200   4   1   3  0\n",
       "18  45000  3450   1   1   1  0\n",
       "19  45000  3986   2   2   1  0\n",
       "20  48500  4785   3   1   2  0\n",
       "21  65900  4510   4   2   2  1\n",
       "22  37900  4000   3   1   2  0\n",
       "23  38000  3934   2   1   1  0\n",
       "24  42000  4960   2   1   1  0\n",
       "25  42300  3000   2   1   2  0\n",
       "26  43500  3800   2   1   1  0\n",
       "27  44000  4960   2   1   1  0\n",
       "28  44500  3000   3   1   1  0"
      ]
     },
     "execution_count": 11,
     "metadata": {},
     "output_type": "execute_result"
    }
   ],
   "source": [
    "data = pd.read_csv('data_per.csv')\n",
    "data"
   ]
  },
  {
   "cell_type": "code",
   "execution_count": 12,
   "metadata": {},
   "outputs": [],
   "source": [
    "data = np.array(data)"
   ]
  },
  {
   "cell_type": "code",
   "execution_count": 13,
   "metadata": {},
   "outputs": [],
   "source": [
    "X_train, X_test, y_train, y_test = train_test_split(data[:,0:5], data[:,5], random_state=1)"
   ]
  },
  {
   "cell_type": "code",
   "execution_count": 49,
   "metadata": {},
   "outputs": [
    {
     "data": {
      "text/plain": [
       "array([[38000,  3934,     2,     1,     1],\n",
       "       [37900,  4000,     3,     1,     2],\n",
       "       [61000,  6360,     2,     1,     1],\n",
       "       [49500,  3060,     3,     1,     1],\n",
       "       [42000,  4960,     2,     1,     1],\n",
       "       [66000,  3880,     3,     2,     2],\n",
       "       [40750,  5200,     4,     1,     3],\n",
       "       [36000,  2880,     3,     1,     1],\n",
       "       [69000,  4160,     3,     1,     3],\n",
       "       [43500,  3800,     2,     1,     1],\n",
       "       [38500,  4000,     2,     1,     1],\n",
       "       [40500,  3300,     3,     1,     2],\n",
       "       [42000,  5850,     3,     1,     2],\n",
       "       [37900,  3185,     2,     1,     1],\n",
       "       [44500,  3000,     3,     1,     1],\n",
       "       [44000,  4960,     2,     1,     1],\n",
       "       [88500,  5500,     3,     2,     4],\n",
       "       [83800,  4800,     3,     1,     1],\n",
       "       [27000,  1700,     3,     1,     2],\n",
       "       [30500,  3000,     2,     1,     1],\n",
       "       [66000,  4160,     3,     1,     1]])"
      ]
     },
     "execution_count": 49,
     "metadata": {},
     "output_type": "execute_result"
    }
   ],
   "source": []
  },
  {
   "cell_type": "code",
   "execution_count": 14,
   "metadata": {},
   "outputs": [],
   "source": [
    "model = Perceptron()"
   ]
  },
  {
   "cell_type": "code",
   "execution_count": 15,
   "metadata": {},
   "outputs": [
    {
     "data": {
      "text/plain": [
       "Perceptron(alpha=0.0001, class_weight=None, early_stopping=False, eta0=1.0,\n",
       "           fit_intercept=True, max_iter=1000, n_iter_no_change=5, n_jobs=None,\n",
       "           penalty=None, random_state=0, shuffle=True, tol=0.001,\n",
       "           validation_fraction=0.1, verbose=0, warm_start=False)"
      ]
     },
     "execution_count": 15,
     "metadata": {},
     "output_type": "execute_result"
    }
   ],
   "source": [
    "model.fit(X_train, y_train)"
   ]
  },
  {
   "cell_type": "code",
   "execution_count": 16,
   "metadata": {},
   "outputs": [
    {
     "data": {
      "text/plain": [
       "Perceptron(alpha=0.0001, class_weight=None, early_stopping=False, eta0=1.0,\n",
       "           fit_intercept=True, max_iter=1000, n_iter_no_change=5, n_jobs=None,\n",
       "           penalty=None, random_state=0, shuffle=True, tol=0.001,\n",
       "           validation_fraction=0.1, verbose=0, warm_start=False)"
      ]
     },
     "execution_count": 16,
     "metadata": {},
     "output_type": "execute_result"
    }
   ],
   "source": [
    "model"
   ]
  },
  {
   "cell_type": "code",
   "execution_count": 17,
   "metadata": {},
   "outputs": [
    {
     "data": {
      "text/plain": [
       "array([[ 2.4950e+04, -4.5167e+04, -3.9000e+01, -9.0000e+00, -5.0000e+00]])"
      ]
     },
     "execution_count": 17,
     "metadata": {},
     "output_type": "execute_result"
    }
   ],
   "source": [
    "model.coef_"
   ]
  },
  {
   "cell_type": "code",
   "execution_count": 18,
   "metadata": {},
   "outputs": [
    {
     "data": {
      "text/plain": [
       "array([-17.])"
      ]
     },
     "execution_count": 18,
     "metadata": {},
     "output_type": "execute_result"
    }
   ],
   "source": [
    "model.intercept_"
   ]
  },
  {
   "cell_type": "code",
   "execution_count": 60,
   "metadata": {},
   "outputs": [
    {
     "data": {
      "text/plain": [
       "6"
      ]
     },
     "execution_count": 60,
     "metadata": {},
     "output_type": "execute_result"
    }
   ],
   "source": [
    "model.n_iter_"
   ]
  },
  {
   "cell_type": "code",
   "execution_count": 19,
   "metadata": {},
   "outputs": [],
   "source": [
    "from sklearn.metrics import accuracy_score"
   ]
  },
  {
   "cell_type": "code",
   "execution_count": 20,
   "metadata": {},
   "outputs": [
    {
     "data": {
      "text/plain": [
       "0.375"
      ]
     },
     "execution_count": 20,
     "metadata": {},
     "output_type": "execute_result"
    }
   ],
   "source": [
    "y_pre = model.predict(X_test)\n",
    "accuracy_score(y_test, y_pre)"
   ]
  },
  {
   "cell_type": "code",
   "execution_count": null,
   "metadata": {},
   "outputs": [],
   "source": []
  },
  {
   "cell_type": "code",
   "execution_count": null,
   "metadata": {},
   "outputs": [],
   "source": []
  },
  {
   "cell_type": "code",
   "execution_count": null,
   "metadata": {},
   "outputs": [],
   "source": []
  }
 ],
 "metadata": {
  "kernelspec": {
   "display_name": "Python 3",
   "language": "python",
   "name": "python3"
  },
  "language_info": {
   "codemirror_mode": {
    "name": "ipython",
    "version": 3
   },
   "file_extension": ".py",
   "mimetype": "text/x-python",
   "name": "python",
   "nbconvert_exporter": "python",
   "pygments_lexer": "ipython3",
   "version": "3.6.8"
  }
 },
 "nbformat": 4,
 "nbformat_minor": 4
}
